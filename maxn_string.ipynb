{
 "cells": [
  {
   "cell_type": "code",
   "execution_count": 28,
   "metadata": {},
   "outputs": [],
   "source": [
    "def maxn_string(string, n):\n",
    "    lst_string = [int(i) for i in string]\n",
    "    count = 0\n",
    "    lst_final = []\n",
    "    lst_overflow = []\n",
    "\n",
    "    while len(lst_string) != 0:\n",
    "        \n",
    "        max_num = max(lst_string)\n",
    "        lst_string.pop(lst_string.index(max_num))\n",
    "        if (len(lst_final) != 0):\n",
    "            if (lst_final[-1] != max_num):\n",
    "                count = 0\n",
    "        count += 1\n",
    "\n",
    "\n",
    "        if count <= n:\n",
    "            lst_final.append(max_num)\n",
    "            lst_final += lst_overflow[:n]\n",
    "            lst_overflow = lst_overflow[n:]\n",
    "\n",
    "        elif count > n:\n",
    "            lst_overflow.append(max_num)        \n",
    "        \n",
    "        \n",
    "\n",
    "    return ''.join([str(i) for i in lst_final])"
   ]
  },
  {
   "cell_type": "code",
   "execution_count": 29,
   "metadata": {},
   "outputs": [
    {
     "data": {
      "text/plain": [
       "'993331331'"
      ]
     },
     "execution_count": 29,
     "metadata": {},
     "output_type": "execute_result"
    }
   ],
   "source": [
    "maxn_string(\"339119333\", 3)"
   ]
  },
  {
   "cell_type": "code",
   "execution_count": 30,
   "metadata": {},
   "outputs": [
    {
     "data": {
      "text/plain": [
       "'999393331333133'"
      ]
     },
     "execution_count": 30,
     "metadata": {},
     "output_type": "execute_result"
    }
   ],
   "source": [
    "maxn_string(\"339119993333333\", 3)"
   ]
  },
  {
   "cell_type": "code",
   "execution_count": 31,
   "metadata": {},
   "outputs": [
    {
     "data": {
      "text/plain": [
       "'333'"
      ]
     },
     "execution_count": 31,
     "metadata": {},
     "output_type": "execute_result"
    }
   ],
   "source": [
    "maxn_string(\"3333333\", 3)"
   ]
  },
  {
   "cell_type": "code",
   "execution_count": 32,
   "metadata": {},
   "outputs": [
    {
     "data": {
      "text/plain": [
       "'3331333'"
      ]
     },
     "execution_count": 32,
     "metadata": {},
     "output_type": "execute_result"
    }
   ],
   "source": [
    "maxn_string(\"33333331\", 3)"
   ]
  }
 ],
 "metadata": {
  "kernelspec": {
   "display_name": "Python 3",
   "language": "python",
   "name": "python3"
  },
  "language_info": {
   "codemirror_mode": {
    "name": "ipython",
    "version": 3
   },
   "file_extension": ".py",
   "mimetype": "text/x-python",
   "name": "python",
   "nbconvert_exporter": "python",
   "pygments_lexer": "ipython3",
   "version": "3.12.4"
  }
 },
 "nbformat": 4,
 "nbformat_minor": 2
}
